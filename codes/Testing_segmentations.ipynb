{
 "cells": [
  {
   "cell_type": "markdown",
   "metadata": {},
   "source": [
    "# This notebook test various segmentation methods "
   ]
  },
  {
   "cell_type": "code",
   "execution_count": 1,
   "metadata": {},
   "outputs": [],
   "source": [
    "from codes.python import load_database,ECG_denoising\n",
    "from codes.python import heartbeat_segmentation as shs\n",
    "import numpy as np\n",
    "from scipy.signal import resample\n",
    "import operator\n",
    "from numpy import array\n",
    "import sys\n",
    "import csv\n",
    "import os\n",
    "import matplotlib.pyplot as plt\n",
    "import wfdb\n",
    "from wfdb import processing, plot\n",
    "from itertools import chain\n"
   ]
  },
  {
   "cell_type": "code",
   "execution_count": 2,
   "metadata": {
    "scrolled": true
   },
   "outputs": [
    {
     "name": "stdout",
     "output_type": "stream",
     "text": [
      "C:\\Users\\nimch681\\Documents\\git_projects\\ECGdataAnalysis/database/mitdb/100\n",
      "C:\\Users\\nimch681\\Documents\\git_projects\\ECGdataAnalysis/database/mitdb/csv/100.csv\n",
      "C:\\Users\\nimch681\\Documents\\git_projects\\ECGdataAnalysis/database/mitdb/csv/100.txt\n",
      "C:\\Users\\nimch681\\Documents\\git_projects\\ECGdataAnalysis/database/mitdb/p_t_wave/100pt.csv\n",
      "C:\\Users\\nimch681\\Documents\\git_projects\\ECGdataAnalysis/database/mitdb/101\n",
      "C:\\Users\\nimch681\\Documents\\git_projects\\ECGdataAnalysis/database/mitdb/csv/101.csv\n",
      "C:\\Users\\nimch681\\Documents\\git_projects\\ECGdataAnalysis/database/mitdb/csv/101.txt\n",
      "C:\\Users\\nimch681\\Documents\\git_projects\\ECGdataAnalysis/database/mitdb/p_t_wave/101pt.csv\n",
      "C:\\Users\\nimch681\\Documents\\git_projects\\ECGdataAnalysis/database/mitdb/102\n",
      "C:\\Users\\nimch681\\Documents\\git_projects\\ECGdataAnalysis/database/mitdb/csv/102.csv\n",
      "C:\\Users\\nimch681\\Documents\\git_projects\\ECGdataAnalysis/database/mitdb/csv/102.txt\n",
      "C:\\Users\\nimch681\\Documents\\git_projects\\ECGdataAnalysis/database/mitdb/p_t_wave/102pt.csv\n",
      "C:\\Users\\nimch681\\Documents\\git_projects\\ECGdataAnalysis/database/mitdb/103\n",
      "C:\\Users\\nimch681\\Documents\\git_projects\\ECGdataAnalysis/database/mitdb/csv/103.csv\n",
      "C:\\Users\\nimch681\\Documents\\git_projects\\ECGdataAnalysis/database/mitdb/csv/103.txt\n",
      "C:\\Users\\nimch681\\Documents\\git_projects\\ECGdataAnalysis/database/mitdb/p_t_wave/103pt.csv\n",
      "C:\\Users\\nimch681\\Documents\\git_projects\\ECGdataAnalysis/database/mitdb/104\n",
      "C:\\Users\\nimch681\\Documents\\git_projects\\ECGdataAnalysis/database/mitdb/csv/104.csv\n",
      "C:\\Users\\nimch681\\Documents\\git_projects\\ECGdataAnalysis/database/mitdb/csv/104.txt\n",
      "C:\\Users\\nimch681\\Documents\\git_projects\\ECGdataAnalysis/database/mitdb/p_t_wave/104pt.csv\n",
      "C:\\Users\\nimch681\\Documents\\git_projects\\ECGdataAnalysis/database/mitdb/105\n",
      "C:\\Users\\nimch681\\Documents\\git_projects\\ECGdataAnalysis/database/mitdb/csv/105.csv\n",
      "C:\\Users\\nimch681\\Documents\\git_projects\\ECGdataAnalysis/database/mitdb/csv/105.txt\n",
      "C:\\Users\\nimch681\\Documents\\git_projects\\ECGdataAnalysis/database/mitdb/p_t_wave/105pt.csv\n",
      "C:\\Users\\nimch681\\Documents\\git_projects\\ECGdataAnalysis/database/mitdb/106\n",
      "C:\\Users\\nimch681\\Documents\\git_projects\\ECGdataAnalysis/database/mitdb/csv/106.csv\n",
      "C:\\Users\\nimch681\\Documents\\git_projects\\ECGdataAnalysis/database/mitdb/csv/106.txt\n",
      "C:\\Users\\nimch681\\Documents\\git_projects\\ECGdataAnalysis/database/mitdb/p_t_wave/106pt.csv\n",
      "C:\\Users\\nimch681\\Documents\\git_projects\\ECGdataAnalysis/database/mitdb/107\n",
      "C:\\Users\\nimch681\\Documents\\git_projects\\ECGdataAnalysis/database/mitdb/csv/107.csv\n",
      "C:\\Users\\nimch681\\Documents\\git_projects\\ECGdataAnalysis/database/mitdb/csv/107.txt\n",
      "C:\\Users\\nimch681\\Documents\\git_projects\\ECGdataAnalysis/database/mitdb/p_t_wave/107pt.csv\n",
      "C:\\Users\\nimch681\\Documents\\git_projects\\ECGdataAnalysis/database/mitdb/108\n",
      "C:\\Users\\nimch681\\Documents\\git_projects\\ECGdataAnalysis/database/mitdb/csv/108.csv\n",
      "C:\\Users\\nimch681\\Documents\\git_projects\\ECGdataAnalysis/database/mitdb/csv/108.txt\n",
      "C:\\Users\\nimch681\\Documents\\git_projects\\ECGdataAnalysis/database/mitdb/p_t_wave/108pt.csv\n",
      "C:\\Users\\nimch681\\Documents\\git_projects\\ECGdataAnalysis/database/mitdb/109\n",
      "C:\\Users\\nimch681\\Documents\\git_projects\\ECGdataAnalysis/database/mitdb/csv/109.csv\n",
      "C:\\Users\\nimch681\\Documents\\git_projects\\ECGdataAnalysis/database/mitdb/csv/109.txt\n",
      "C:\\Users\\nimch681\\Documents\\git_projects\\ECGdataAnalysis/database/mitdb/p_t_wave/109pt.csv\n",
      "C:\\Users\\nimch681\\Documents\\git_projects\\ECGdataAnalysis/database/mitdb/111\n",
      "C:\\Users\\nimch681\\Documents\\git_projects\\ECGdataAnalysis/database/mitdb/csv/111.csv\n",
      "C:\\Users\\nimch681\\Documents\\git_projects\\ECGdataAnalysis/database/mitdb/csv/111.txt\n",
      "C:\\Users\\nimch681\\Documents\\git_projects\\ECGdataAnalysis/database/mitdb/p_t_wave/111pt.csv\n",
      "C:\\Users\\nimch681\\Documents\\git_projects\\ECGdataAnalysis/database/mitdb/112\n",
      "C:\\Users\\nimch681\\Documents\\git_projects\\ECGdataAnalysis/database/mitdb/csv/112.csv\n",
      "C:\\Users\\nimch681\\Documents\\git_projects\\ECGdataAnalysis/database/mitdb/csv/112.txt\n",
      "C:\\Users\\nimch681\\Documents\\git_projects\\ECGdataAnalysis/database/mitdb/p_t_wave/112pt.csv\n",
      "C:\\Users\\nimch681\\Documents\\git_projects\\ECGdataAnalysis/database/mitdb/113\n",
      "C:\\Users\\nimch681\\Documents\\git_projects\\ECGdataAnalysis/database/mitdb/csv/113.csv\n",
      "C:\\Users\\nimch681\\Documents\\git_projects\\ECGdataAnalysis/database/mitdb/csv/113.txt\n",
      "C:\\Users\\nimch681\\Documents\\git_projects\\ECGdataAnalysis/database/mitdb/p_t_wave/113pt.csv\n",
      "C:\\Users\\nimch681\\Documents\\git_projects\\ECGdataAnalysis/database/mitdb/114\n",
      "C:\\Users\\nimch681\\Documents\\git_projects\\ECGdataAnalysis/database/mitdb/csv/114.csv\n",
      "C:\\Users\\nimch681\\Documents\\git_projects\\ECGdataAnalysis/database/mitdb/csv/114.txt\n",
      "C:\\Users\\nimch681\\Documents\\git_projects\\ECGdataAnalysis/database/mitdb/p_t_wave/114pt.csv\n",
      "C:\\Users\\nimch681\\Documents\\git_projects\\ECGdataAnalysis/database/mitdb/115\n",
      "C:\\Users\\nimch681\\Documents\\git_projects\\ECGdataAnalysis/database/mitdb/csv/115.csv\n",
      "C:\\Users\\nimch681\\Documents\\git_projects\\ECGdataAnalysis/database/mitdb/csv/115.txt\n",
      "C:\\Users\\nimch681\\Documents\\git_projects\\ECGdataAnalysis/database/mitdb/p_t_wave/115pt.csv\n",
      "C:\\Users\\nimch681\\Documents\\git_projects\\ECGdataAnalysis/database/mitdb/116\n",
      "C:\\Users\\nimch681\\Documents\\git_projects\\ECGdataAnalysis/database/mitdb/csv/116.csv\n",
      "C:\\Users\\nimch681\\Documents\\git_projects\\ECGdataAnalysis/database/mitdb/csv/116.txt\n",
      "C:\\Users\\nimch681\\Documents\\git_projects\\ECGdataAnalysis/database/mitdb/p_t_wave/116pt.csv\n",
      "C:\\Users\\nimch681\\Documents\\git_projects\\ECGdataAnalysis/database/mitdb/117\n",
      "C:\\Users\\nimch681\\Documents\\git_projects\\ECGdataAnalysis/database/mitdb/csv/117.csv\n",
      "C:\\Users\\nimch681\\Documents\\git_projects\\ECGdataAnalysis/database/mitdb/csv/117.txt\n",
      "C:\\Users\\nimch681\\Documents\\git_projects\\ECGdataAnalysis/database/mitdb/p_t_wave/117pt.csv\n",
      "C:\\Users\\nimch681\\Documents\\git_projects\\ECGdataAnalysis/database/mitdb/118\n",
      "C:\\Users\\nimch681\\Documents\\git_projects\\ECGdataAnalysis/database/mitdb/csv/118.csv\n",
      "C:\\Users\\nimch681\\Documents\\git_projects\\ECGdataAnalysis/database/mitdb/csv/118.txt\n",
      "C:\\Users\\nimch681\\Documents\\git_projects\\ECGdataAnalysis/database/mitdb/p_t_wave/118pt.csv\n",
      "C:\\Users\\nimch681\\Documents\\git_projects\\ECGdataAnalysis/database/mitdb/119\n",
      "C:\\Users\\nimch681\\Documents\\git_projects\\ECGdataAnalysis/database/mitdb/csv/119.csv\n",
      "C:\\Users\\nimch681\\Documents\\git_projects\\ECGdataAnalysis/database/mitdb/csv/119.txt\n",
      "C:\\Users\\nimch681\\Documents\\git_projects\\ECGdataAnalysis/database/mitdb/p_t_wave/119pt.csv\n",
      "C:\\Users\\nimch681\\Documents\\git_projects\\ECGdataAnalysis/database/mitdb/121\n",
      "C:\\Users\\nimch681\\Documents\\git_projects\\ECGdataAnalysis/database/mitdb/csv/121.csv\n",
      "C:\\Users\\nimch681\\Documents\\git_projects\\ECGdataAnalysis/database/mitdb/csv/121.txt\n",
      "C:\\Users\\nimch681\\Documents\\git_projects\\ECGdataAnalysis/database/mitdb/p_t_wave/121pt.csv\n",
      "C:\\Users\\nimch681\\Documents\\git_projects\\ECGdataAnalysis/database/mitdb/122\n",
      "C:\\Users\\nimch681\\Documents\\git_projects\\ECGdataAnalysis/database/mitdb/csv/122.csv\n",
      "C:\\Users\\nimch681\\Documents\\git_projects\\ECGdataAnalysis/database/mitdb/csv/122.txt\n",
      "C:\\Users\\nimch681\\Documents\\git_projects\\ECGdataAnalysis/database/mitdb/p_t_wave/122pt.csv\n",
      "C:\\Users\\nimch681\\Documents\\git_projects\\ECGdataAnalysis/database/mitdb/123\n",
      "C:\\Users\\nimch681\\Documents\\git_projects\\ECGdataAnalysis/database/mitdb/csv/123.csv\n",
      "C:\\Users\\nimch681\\Documents\\git_projects\\ECGdataAnalysis/database/mitdb/csv/123.txt\n",
      "C:\\Users\\nimch681\\Documents\\git_projects\\ECGdataAnalysis/database/mitdb/p_t_wave/123pt.csv\n",
      "C:\\Users\\nimch681\\Documents\\git_projects\\ECGdataAnalysis/database/mitdb/124\n",
      "C:\\Users\\nimch681\\Documents\\git_projects\\ECGdataAnalysis/database/mitdb/csv/124.csv\n",
      "C:\\Users\\nimch681\\Documents\\git_projects\\ECGdataAnalysis/database/mitdb/csv/124.txt\n",
      "C:\\Users\\nimch681\\Documents\\git_projects\\ECGdataAnalysis/database/mitdb/p_t_wave/124pt.csv\n",
      "C:\\Users\\nimch681\\Documents\\git_projects\\ECGdataAnalysis/database/mitdb/200\n",
      "C:\\Users\\nimch681\\Documents\\git_projects\\ECGdataAnalysis/database/mitdb/csv/200.csv\n",
      "C:\\Users\\nimch681\\Documents\\git_projects\\ECGdataAnalysis/database/mitdb/csv/200.txt\n",
      "C:\\Users\\nimch681\\Documents\\git_projects\\ECGdataAnalysis/database/mitdb/p_t_wave/200pt.csv\n",
      "C:\\Users\\nimch681\\Documents\\git_projects\\ECGdataAnalysis/database/mitdb/201\n",
      "C:\\Users\\nimch681\\Documents\\git_projects\\ECGdataAnalysis/database/mitdb/csv/201.csv\n"
     ]
    },
    {
     "name": "stdout",
     "output_type": "stream",
     "text": [
      "C:\\Users\\nimch681\\Documents\\git_projects\\ECGdataAnalysis/database/mitdb/csv/201.txt\n",
      "C:\\Users\\nimch681\\Documents\\git_projects\\ECGdataAnalysis/database/mitdb/p_t_wave/201pt.csv\n",
      "C:\\Users\\nimch681\\Documents\\git_projects\\ECGdataAnalysis/database/mitdb/202\n",
      "C:\\Users\\nimch681\\Documents\\git_projects\\ECGdataAnalysis/database/mitdb/csv/202.csv\n",
      "C:\\Users\\nimch681\\Documents\\git_projects\\ECGdataAnalysis/database/mitdb/csv/202.txt\n",
      "C:\\Users\\nimch681\\Documents\\git_projects\\ECGdataAnalysis/database/mitdb/p_t_wave/202pt.csv\n",
      "C:\\Users\\nimch681\\Documents\\git_projects\\ECGdataAnalysis/database/mitdb/203\n",
      "C:\\Users\\nimch681\\Documents\\git_projects\\ECGdataAnalysis/database/mitdb/csv/203.csv\n",
      "C:\\Users\\nimch681\\Documents\\git_projects\\ECGdataAnalysis/database/mitdb/csv/203.txt\n",
      "C:\\Users\\nimch681\\Documents\\git_projects\\ECGdataAnalysis/database/mitdb/p_t_wave/203pt.csv\n",
      "C:\\Users\\nimch681\\Documents\\git_projects\\ECGdataAnalysis/database/mitdb/205\n",
      "C:\\Users\\nimch681\\Documents\\git_projects\\ECGdataAnalysis/database/mitdb/csv/205.csv\n",
      "C:\\Users\\nimch681\\Documents\\git_projects\\ECGdataAnalysis/database/mitdb/csv/205.txt\n",
      "C:\\Users\\nimch681\\Documents\\git_projects\\ECGdataAnalysis/database/mitdb/p_t_wave/205pt.csv\n",
      "C:\\Users\\nimch681\\Documents\\git_projects\\ECGdataAnalysis/database/mitdb/207\n",
      "C:\\Users\\nimch681\\Documents\\git_projects\\ECGdataAnalysis/database/mitdb/csv/207.csv\n",
      "C:\\Users\\nimch681\\Documents\\git_projects\\ECGdataAnalysis/database/mitdb/csv/207.txt\n",
      "C:\\Users\\nimch681\\Documents\\git_projects\\ECGdataAnalysis/database/mitdb/p_t_wave/207pt.csv\n",
      "C:\\Users\\nimch681\\Documents\\git_projects\\ECGdataAnalysis/database/mitdb/208\n",
      "C:\\Users\\nimch681\\Documents\\git_projects\\ECGdataAnalysis/database/mitdb/csv/208.csv\n",
      "C:\\Users\\nimch681\\Documents\\git_projects\\ECGdataAnalysis/database/mitdb/csv/208.txt\n",
      "C:\\Users\\nimch681\\Documents\\git_projects\\ECGdataAnalysis/database/mitdb/p_t_wave/208pt.csv\n",
      "C:\\Users\\nimch681\\Documents\\git_projects\\ECGdataAnalysis/database/mitdb/209\n",
      "C:\\Users\\nimch681\\Documents\\git_projects\\ECGdataAnalysis/database/mitdb/csv/209.csv\n",
      "C:\\Users\\nimch681\\Documents\\git_projects\\ECGdataAnalysis/database/mitdb/csv/209.txt\n",
      "C:\\Users\\nimch681\\Documents\\git_projects\\ECGdataAnalysis/database/mitdb/p_t_wave/209pt.csv\n",
      "C:\\Users\\nimch681\\Documents\\git_projects\\ECGdataAnalysis/database/mitdb/210\n",
      "C:\\Users\\nimch681\\Documents\\git_projects\\ECGdataAnalysis/database/mitdb/csv/210.csv\n",
      "C:\\Users\\nimch681\\Documents\\git_projects\\ECGdataAnalysis/database/mitdb/csv/210.txt\n",
      "C:\\Users\\nimch681\\Documents\\git_projects\\ECGdataAnalysis/database/mitdb/p_t_wave/210pt.csv\n",
      "C:\\Users\\nimch681\\Documents\\git_projects\\ECGdataAnalysis/database/mitdb/212\n",
      "C:\\Users\\nimch681\\Documents\\git_projects\\ECGdataAnalysis/database/mitdb/csv/212.csv\n",
      "C:\\Users\\nimch681\\Documents\\git_projects\\ECGdataAnalysis/database/mitdb/csv/212.txt\n",
      "C:\\Users\\nimch681\\Documents\\git_projects\\ECGdataAnalysis/database/mitdb/p_t_wave/212pt.csv\n",
      "C:\\Users\\nimch681\\Documents\\git_projects\\ECGdataAnalysis/database/mitdb/213\n",
      "C:\\Users\\nimch681\\Documents\\git_projects\\ECGdataAnalysis/database/mitdb/csv/213.csv\n",
      "C:\\Users\\nimch681\\Documents\\git_projects\\ECGdataAnalysis/database/mitdb/csv/213.txt\n",
      "C:\\Users\\nimch681\\Documents\\git_projects\\ECGdataAnalysis/database/mitdb/p_t_wave/213pt.csv\n",
      "C:\\Users\\nimch681\\Documents\\git_projects\\ECGdataAnalysis/database/mitdb/214\n",
      "C:\\Users\\nimch681\\Documents\\git_projects\\ECGdataAnalysis/database/mitdb/csv/214.csv\n",
      "C:\\Users\\nimch681\\Documents\\git_projects\\ECGdataAnalysis/database/mitdb/csv/214.txt\n",
      "C:\\Users\\nimch681\\Documents\\git_projects\\ECGdataAnalysis/database/mitdb/p_t_wave/214pt.csv\n",
      "C:\\Users\\nimch681\\Documents\\git_projects\\ECGdataAnalysis/database/mitdb/215\n",
      "C:\\Users\\nimch681\\Documents\\git_projects\\ECGdataAnalysis/database/mitdb/csv/215.csv\n",
      "C:\\Users\\nimch681\\Documents\\git_projects\\ECGdataAnalysis/database/mitdb/csv/215.txt\n",
      "C:\\Users\\nimch681\\Documents\\git_projects\\ECGdataAnalysis/database/mitdb/p_t_wave/215pt.csv\n",
      "C:\\Users\\nimch681\\Documents\\git_projects\\ECGdataAnalysis/database/mitdb/217\n",
      "C:\\Users\\nimch681\\Documents\\git_projects\\ECGdataAnalysis/database/mitdb/csv/217.csv\n",
      "C:\\Users\\nimch681\\Documents\\git_projects\\ECGdataAnalysis/database/mitdb/csv/217.txt\n",
      "C:\\Users\\nimch681\\Documents\\git_projects\\ECGdataAnalysis/database/mitdb/p_t_wave/217pt.csv\n",
      "C:\\Users\\nimch681\\Documents\\git_projects\\ECGdataAnalysis/database/mitdb/219\n",
      "C:\\Users\\nimch681\\Documents\\git_projects\\ECGdataAnalysis/database/mitdb/csv/219.csv\n",
      "C:\\Users\\nimch681\\Documents\\git_projects\\ECGdataAnalysis/database/mitdb/csv/219.txt\n",
      "C:\\Users\\nimch681\\Documents\\git_projects\\ECGdataAnalysis/database/mitdb/p_t_wave/219pt.csv\n",
      "C:\\Users\\nimch681\\Documents\\git_projects\\ECGdataAnalysis/database/mitdb/220\n",
      "C:\\Users\\nimch681\\Documents\\git_projects\\ECGdataAnalysis/database/mitdb/csv/220.csv\n",
      "C:\\Users\\nimch681\\Documents\\git_projects\\ECGdataAnalysis/database/mitdb/csv/220.txt\n",
      "C:\\Users\\nimch681\\Documents\\git_projects\\ECGdataAnalysis/database/mitdb/p_t_wave/220pt.csv\n",
      "C:\\Users\\nimch681\\Documents\\git_projects\\ECGdataAnalysis/database/mitdb/221\n",
      "C:\\Users\\nimch681\\Documents\\git_projects\\ECGdataAnalysis/database/mitdb/csv/221.csv\n",
      "C:\\Users\\nimch681\\Documents\\git_projects\\ECGdataAnalysis/database/mitdb/csv/221.txt\n",
      "C:\\Users\\nimch681\\Documents\\git_projects\\ECGdataAnalysis/database/mitdb/p_t_wave/221pt.csv\n",
      "C:\\Users\\nimch681\\Documents\\git_projects\\ECGdataAnalysis/database/mitdb/222\n",
      "C:\\Users\\nimch681\\Documents\\git_projects\\ECGdataAnalysis/database/mitdb/csv/222.csv\n",
      "C:\\Users\\nimch681\\Documents\\git_projects\\ECGdataAnalysis/database/mitdb/csv/222.txt\n",
      "C:\\Users\\nimch681\\Documents\\git_projects\\ECGdataAnalysis/database/mitdb/p_t_wave/222pt.csv\n",
      "C:\\Users\\nimch681\\Documents\\git_projects\\ECGdataAnalysis/database/mitdb/223\n",
      "C:\\Users\\nimch681\\Documents\\git_projects\\ECGdataAnalysis/database/mitdb/csv/223.csv\n",
      "C:\\Users\\nimch681\\Documents\\git_projects\\ECGdataAnalysis/database/mitdb/csv/223.txt\n",
      "C:\\Users\\nimch681\\Documents\\git_projects\\ECGdataAnalysis/database/mitdb/p_t_wave/223pt.csv\n",
      "C:\\Users\\nimch681\\Documents\\git_projects\\ECGdataAnalysis/database/mitdb/228\n",
      "C:\\Users\\nimch681\\Documents\\git_projects\\ECGdataAnalysis/database/mitdb/csv/228.csv\n",
      "C:\\Users\\nimch681\\Documents\\git_projects\\ECGdataAnalysis/database/mitdb/csv/228.txt\n",
      "C:\\Users\\nimch681\\Documents\\git_projects\\ECGdataAnalysis/database/mitdb/p_t_wave/228pt.csv\n",
      "C:\\Users\\nimch681\\Documents\\git_projects\\ECGdataAnalysis/database/mitdb/230\n",
      "C:\\Users\\nimch681\\Documents\\git_projects\\ECGdataAnalysis/database/mitdb/csv/230.csv\n",
      "C:\\Users\\nimch681\\Documents\\git_projects\\ECGdataAnalysis/database/mitdb/csv/230.txt\n",
      "C:\\Users\\nimch681\\Documents\\git_projects\\ECGdataAnalysis/database/mitdb/p_t_wave/230pt.csv\n",
      "C:\\Users\\nimch681\\Documents\\git_projects\\ECGdataAnalysis/database/mitdb/231\n",
      "C:\\Users\\nimch681\\Documents\\git_projects\\ECGdataAnalysis/database/mitdb/csv/231.csv\n",
      "C:\\Users\\nimch681\\Documents\\git_projects\\ECGdataAnalysis/database/mitdb/csv/231.txt\n",
      "C:\\Users\\nimch681\\Documents\\git_projects\\ECGdataAnalysis/database/mitdb/p_t_wave/231pt.csv\n",
      "C:\\Users\\nimch681\\Documents\\git_projects\\ECGdataAnalysis/database/mitdb/232\n",
      "C:\\Users\\nimch681\\Documents\\git_projects\\ECGdataAnalysis/database/mitdb/csv/232.csv\n",
      "C:\\Users\\nimch681\\Documents\\git_projects\\ECGdataAnalysis/database/mitdb/csv/232.txt\n",
      "C:\\Users\\nimch681\\Documents\\git_projects\\ECGdataAnalysis/database/mitdb/p_t_wave/232pt.csv\n",
      "C:\\Users\\nimch681\\Documents\\git_projects\\ECGdataAnalysis/database/mitdb/233\n",
      "C:\\Users\\nimch681\\Documents\\git_projects\\ECGdataAnalysis/database/mitdb/csv/233.csv\n",
      "C:\\Users\\nimch681\\Documents\\git_projects\\ECGdataAnalysis/database/mitdb/csv/233.txt\n",
      "C:\\Users\\nimch681\\Documents\\git_projects\\ECGdataAnalysis/database/mitdb/p_t_wave/233pt.csv\n",
      "C:\\Users\\nimch681\\Documents\\git_projects\\ECGdataAnalysis/database/mitdb/234\n",
      "C:\\Users\\nimch681\\Documents\\git_projects\\ECGdataAnalysis/database/mitdb/csv/234.csv\n",
      "C:\\Users\\nimch681\\Documents\\git_projects\\ECGdataAnalysis/database/mitdb/csv/234.txt\n",
      "C:\\Users\\nimch681\\Documents\\git_projects\\ECGdataAnalysis/database/mitdb/p_t_wave/234pt.csv\n"
     ]
    }
   ],
   "source": [
    "mitdb = load_database.load_mitdb()\n"
   ]
  },
  {
   "cell_type": "code",
   "execution_count": 3,
   "metadata": {},
   "outputs": [
    {
     "name": "stdout",
     "output_type": "stream",
     "text": [
      "C:\\Users\\nimch681\\Documents\\git_projects\\ECGdataAnalysis/database/mitdb/100\n",
      "C:\\Users\\nimch681\\Documents\\git_projects\\ECGdataAnalysis/database/mitdb/csv/100.csv\n",
      "C:\\Users\\nimch681\\Documents\\git_projects\\ECGdataAnalysis/database/mitdb/csv/100.txt\n",
      "C:\\Users\\nimch681\\Documents\\git_projects\\ECGdataAnalysis/database/mitdb/p_t_wave/100pt.csv\n"
     ]
    }
   ],
   "source": [
    "mit100 = load_database.load_patient_record(\"mitdb\",\"100\")\n",
    "mit1_10000 = mit100.MLII[0:300]"
   ]
  },
  {
   "cell_type": "markdown",
   "metadata": {},
   "source": [
    "This cell test the complicated xqrs alogrithm for detecting QRS complex from WFDB. It detects the QRS complex then splits out the index of the R-peak"
   ]
  },
  {
   "cell_type": "code",
   "execution_count": 4,
   "metadata": {},
   "outputs": [
    {
     "name": "stdout",
     "output_type": "stream",
     "text": [
      "Learning initial signal parameters...\n",
      "Failed to find 8 beats during learning.\n",
      "Initializing using default parameters\n",
      "Running QRS detection...\n",
      "QRS detection complete.\n"
     ]
    },
    {
     "data": {
      "image/png": "[encoded data removed]",
      "text/plain": [
       "<Figure size 432x288 with 1 Axes>"
      ]
     },
     "metadata": {},
     "output_type": "display_data"
    },
    {
     "data": {
      "text/plain": [
       "1"
      ]
     },
     "execution_count": 4,
     "metadata": {},
     "output_type": "execute_result"
    }
   ],
   "source": [
    "qrs_inds  = processing.xqrs_detect(sig=mit1_10000, fs=mit100.fields['fs'])\n",
    "\n",
    "wfdb.plot_items(signal=mit1_10000, ann_samp=[qrs_inds])\n",
    "\n",
    "len(qrs_inds)"
   ]
  },
  {
   "cell_type": "markdown",
   "metadata": {},
   "source": [
    "The results from mitdb record 100: from 0 to 10000 sample, shows quite accurate indicator of R peaks"
   ]
  },
  {
   "cell_type": "markdown",
   "metadata": {},
   "source": [
    "The next cells show results for simple segmentation algorithm. It looks for the maximum values from a range  that included the annotated r-peaks and it boundaries."
   ]
  },
  {
   "cell_type": "code",
   "execution_count": 5,
   "metadata": {},
   "outputs": [
    {
     "ename": "ValueError",
     "evalue": "too many values to unpack (expected 5)",
     "output_type": "error",
     "traceback": [
      "\u001b[1;31m---------------------------------------------------------------------------\u001b[0m",
      "\u001b[1;31mValueError\u001b[0m                                Traceback (most recent call last)",
      "\u001b[1;32m<ipython-input-5-619a2fe917a9>\u001b[0m in \u001b[0;36m<module>\u001b[1;34m()\u001b[0m\n\u001b[0;32m      2\u001b[0m \u001b[0mfiltered_MLII_10000\u001b[0m \u001b[1;33m=\u001b[0m \u001b[0mECG_denoising\u001b[0m\u001b[1;33m.\u001b[0m\u001b[0mdenoising_signal_FIR\u001b[0m\u001b[1;33m(\u001b[0m\u001b[0mmit1_10000\u001b[0m\u001b[1;33m,\u001b[0m\u001b[0mfilter_ecg\u001b[0m\u001b[1;33m)\u001b[0m\u001b[1;33m\u001b[0m\u001b[0m\n\u001b[0;32m      3\u001b[0m \u001b[1;31m#mit100.filtered_V1 = ECG_denoising.denoising_signal_FIR(mit100.V1,filter_ecg)\u001b[0m\u001b[1;33m\u001b[0m\u001b[1;33m\u001b[0m\u001b[0m\n\u001b[1;32m----> 4\u001b[1;33m \u001b[0msegmented_beat_1\u001b[0m\u001b[1;33m,\u001b[0m\u001b[0mtime\u001b[0m\u001b[1;33m,\u001b[0m \u001b[0msegmented_class_ID\u001b[0m\u001b[1;33m,\u001b[0m \u001b[0msegmented_beat_class\u001b[0m\u001b[1;33m,\u001b[0m \u001b[0msegmented_R_pos\u001b[0m  \u001b[1;33m=\u001b[0m \u001b[0mshs\u001b[0m\u001b[1;33m.\u001b[0m\u001b[0msegment_beat_from_annotation\u001b[0m\u001b[1;33m(\u001b[0m\u001b[0mfiltered_MLII_10000\u001b[0m\u001b[1;33m,\u001b[0m\u001b[0mmit100\u001b[0m\u001b[1;33m.\u001b[0m\u001b[0mtime\u001b[0m\u001b[1;33m[\u001b[0m\u001b[1;36m0\u001b[0m\u001b[1;33m:\u001b[0m\u001b[1;36m10000\u001b[0m\u001b[1;33m]\u001b[0m\u001b[1;33m,\u001b[0m \u001b[0mmit100\u001b[0m\u001b[1;33m.\u001b[0m\u001b[0mannotations\u001b[0m\u001b[1;33m,\u001b[0m \u001b[1;36m90\u001b[0m\u001b[1;33m,\u001b[0m \u001b[1;36m90\u001b[0m\u001b[1;33m)\u001b[0m\u001b[1;33m\u001b[0m\u001b[0m\n\u001b[0m\u001b[0;32m      5\u001b[0m \u001b[1;31m#original_r_pos = np.array(segmented_original_R)\u001b[0m\u001b[1;33m\u001b[0m\u001b[1;33m\u001b[0m\u001b[0m\n\u001b[0;32m      6\u001b[0m \u001b[0mr_pos\u001b[0m \u001b[1;33m=\u001b[0m \u001b[0mnp\u001b[0m\u001b[1;33m.\u001b[0m\u001b[0marray\u001b[0m\u001b[1;33m(\u001b[0m\u001b[0msegmented_R_pos\u001b[0m\u001b[1;33m)\u001b[0m\u001b[1;33m\u001b[0m\u001b[0m\n",
      "\u001b[1;31mValueError\u001b[0m: too many values to unpack (expected 5)"
     ]
    }
   ],
   "source": [
    "filter_ecg = ECG_denoising.ECG_FIR_filter()\n",
    "filtered_MLII_10000 = ECG_denoising.denoising_signal_FIR(mit1_10000,filter_ecg)\n",
    "#mit100.filtered_V1 = ECG_denoising.denoising_signal_FIR(mit100.V1,filter_ecg)\n",
    "segmented_beat_1,time, segmented_class_ID, segmented_beat_class, segmented_R_pos  = shs.segment_beat_from_annotation(filtered_MLII_10000,mit100.time[0:10000], mit100.annotations, 90, 90)\n",
    "#original_r_pos = np.array(segmented_original_R)\n",
    "r_pos = np.array(segmented_R_pos)\n",
    "\n",
    "wfdb.plot_items(signal=mit1_10000, ann_samp=[r_pos])\n",
    "#wfdb.plot_items(signal=mit1_10000, ann_samp=[original_r_pos])\n",
    "\n",
    "\n"
   ]
  },
  {
   "cell_type": "markdown",
   "metadata": {},
   "source": [
    "The graphs show that the simple algorithm result from 0 to 10000 sample in record 100 is quite accurate"
   ]
  },
  {
   "cell_type": "code",
   "execution_count": null,
   "metadata": {},
   "outputs": [],
   "source": []
  },
  {
   "cell_type": "markdown",
   "metadata": {},
   "source": [
    "The next cells test the gqrs algorithm from WFDB"
   ]
  },
  {
   "cell_type": "code",
   "execution_count": 6,
   "metadata": {},
   "outputs": [
    {
     "data": {
      "image/png": "[encoded data removed]",
      "text/plain": [
       "<Figure size 432x288 with 1 Axes>"
      ]
     },
     "metadata": {},
     "output_type": "display_data"
    },
    {
     "data": {
      "text/plain": [
       "33"
      ]
     },
     "execution_count": 6,
     "metadata": {},
     "output_type": "execute_result"
    }
   ],
   "source": [
    "qrs_locs = processing.gqrs_detect(mit1_10000, fs=360)\n",
    "\n",
    "\n",
    "wfdb.plot_items(signal=mit1_10000, ann_samp=[qrs_locs])\n",
    "len(qrs_locs)\n"
   ]
  },
  {
   "cell_type": "markdown",
   "metadata": {},
   "source": [
    "the results of gqrs algorithm looks for peaks from the bottom of the qrs complex which is quite weird."
   ]
  },
  {
   "cell_type": "code",
   "execution_count": 8,
   "metadata": {},
   "outputs": [],
   "source": [
    "patients = mitdb.patient_records"
   ]
  },
  {
   "cell_type": "code",
   "execution_count": 9,
   "metadata": {},
   "outputs": [
    {
     "name": "stdout",
     "output_type": "stream",
     "text": [
      "Learning initial signal parameters...\n",
      "Found 8 beats during learning. Initializing using learned parameters\n",
      "Running QRS detection...\n",
      "QRS detection complete.\n",
      "Learning initial signal parameters...\n",
      "Found 8 beats during learning. Initializing using learned parameters\n",
      "Running QRS detection...\n",
      "QRS detection complete.\n",
      "Learning initial signal parameters...\n",
      "Found 8 beats during learning. Initializing using learned parameters\n",
      "Running QRS detection...\n",
      "QRS detection complete.\n",
      "Learning initial signal parameters...\n",
      "Found 8 beats during learning. Initializing using learned parameters\n",
      "Running QRS detection...\n",
      "QRS detection complete.\n",
      "Learning initial signal parameters...\n",
      "Found 8 beats during learning. Initializing using learned parameters\n",
      "Running QRS detection...\n",
      "QRS detection complete.\n",
      "Learning initial signal parameters...\n",
      "Found 8 beats during learning. Initializing using learned parameters\n",
      "Running QRS detection...\n",
      "QRS detection complete.\n",
      "Learning initial signal parameters...\n",
      "Found 8 beats during learning. Initializing using learned parameters\n",
      "Running QRS detection...\n",
      "QRS detection complete.\n",
      "Learning initial signal parameters...\n",
      "Found 8 beats during learning. Initializing using learned parameters\n",
      "Running QRS detection...\n",
      "QRS detection complete.\n",
      "Learning initial signal parameters...\n",
      "Found 8 beats during learning. Initializing using learned parameters\n",
      "Running QRS detection...\n",
      "QRS detection complete.\n",
      "Learning initial signal parameters...\n",
      "Found 8 beats during learning. Initializing using learned parameters\n",
      "Running QRS detection...\n",
      "QRS detection complete.\n",
      "Learning initial signal parameters...\n",
      "Found 8 beats during learning. Initializing using learned parameters\n",
      "Running QRS detection...\n",
      "QRS detection complete.\n",
      "Learning initial signal parameters...\n",
      "Found 8 beats during learning. Initializing using learned parameters\n",
      "Running QRS detection...\n",
      "QRS detection complete.\n",
      "Learning initial signal parameters...\n",
      "Found 8 beats during learning. Initializing using learned parameters\n",
      "Running QRS detection...\n",
      "QRS detection complete.\n",
      "Learning initial signal parameters...\n",
      "Found 8 beats during learning. Initializing using learned parameters\n",
      "Running QRS detection...\n",
      "QRS detection complete.\n",
      "Learning initial signal parameters...\n",
      "Found 8 beats during learning. Initializing using learned parameters\n",
      "Running QRS detection...\n",
      "QRS detection complete.\n",
      "Learning initial signal parameters...\n",
      "Found 8 beats during learning. Initializing using learned parameters\n",
      "Running QRS detection...\n",
      "QRS detection complete.\n",
      "Learning initial signal parameters...\n",
      "Found 8 beats during learning. Initializing using learned parameters\n",
      "Running QRS detection...\n",
      "QRS detection complete.\n",
      "Learning initial signal parameters...\n",
      "Found 8 beats during learning. Initializing using learned parameters\n",
      "Running QRS detection...\n",
      "QRS detection complete.\n",
      "Learning initial signal parameters...\n",
      "Found 8 beats during learning. Initializing using learned parameters\n",
      "Running QRS detection...\n",
      "QRS detection complete.\n",
      "Learning initial signal parameters...\n",
      "Found 8 beats during learning. Initializing using learned parameters\n",
      "Running QRS detection...\n",
      "QRS detection complete.\n",
      "Learning initial signal parameters...\n",
      "Found 8 beats during learning. Initializing using learned parameters\n",
      "Running QRS detection...\n",
      "QRS detection complete.\n",
      "Learning initial signal parameters...\n",
      "Found 8 beats during learning. Initializing using learned parameters\n",
      "Running QRS detection...\n",
      "QRS detection complete.\n",
      "Learning initial signal parameters...\n",
      "Found 8 beats during learning. Initializing using learned parameters\n",
      "Running QRS detection...\n",
      "QRS detection complete.\n",
      "Learning initial signal parameters...\n",
      "Found 8 beats during learning. Initializing using learned parameters\n",
      "Running QRS detection...\n",
      "QRS detection complete.\n",
      "Learning initial signal parameters...\n",
      "Found 8 beats during learning. Initializing using learned parameters\n",
      "Running QRS detection...\n",
      "QRS detection complete.\n",
      "Learning initial signal parameters...\n",
      "Found 8 beats during learning. Initializing using learned parameters\n",
      "Running QRS detection...\n",
      "QRS detection complete.\n",
      "Learning initial signal parameters...\n",
      "Found 8 beats during learning. Initializing using learned parameters\n",
      "Running QRS detection...\n",
      "QRS detection complete.\n",
      "Learning initial signal parameters...\n",
      "Found 8 beats during learning. Initializing using learned parameters\n",
      "Running QRS detection...\n",
      "QRS detection complete.\n",
      "Learning initial signal parameters...\n",
      "Found 8 beats during learning. Initializing using learned parameters\n",
      "Running QRS detection...\n",
      "QRS detection complete.\n",
      "Learning initial signal parameters...\n",
      "Found 8 beats during learning. Initializing using learned parameters\n",
      "Running QRS detection...\n",
      "QRS detection complete.\n",
      "Learning initial signal parameters...\n",
      "Found 8 beats during learning. Initializing using learned parameters\n",
      "Running QRS detection...\n",
      "QRS detection complete.\n",
      "Learning initial signal parameters...\n",
      "Found 8 beats during learning. Initializing using learned parameters\n",
      "Running QRS detection...\n",
      "QRS detection complete.\n",
      "Learning initial signal parameters...\n",
      "Found 8 beats during learning. Initializing using learned parameters\n",
      "Running QRS detection...\n",
      "QRS detection complete.\n",
      "Learning initial signal parameters...\n",
      "Found 8 beats during learning. Initializing using learned parameters\n",
      "Running QRS detection...\n",
      "QRS detection complete.\n",
      "Learning initial signal parameters...\n",
      "Found 8 beats during learning. Initializing using learned parameters\n",
      "Running QRS detection...\n",
      "QRS detection complete.\n",
      "Learning initial signal parameters...\n",
      "Found 8 beats during learning. Initializing using learned parameters\n",
      "Running QRS detection...\n",
      "QRS detection complete.\n",
      "Learning initial signal parameters...\n",
      "Found 8 beats during learning. Initializing using learned parameters\n",
      "Running QRS detection...\n",
      "QRS detection complete.\n",
      "Learning initial signal parameters...\n",
      "Found 8 beats during learning. Initializing using learned parameters\n",
      "Running QRS detection...\n",
      "QRS detection complete.\n",
      "Learning initial signal parameters...\n",
      "Found 8 beats during learning. Initializing using learned parameters\n",
      "Running QRS detection...\n",
      "QRS detection complete.\n",
      "Learning initial signal parameters...\n",
      "Found 8 beats during learning. Initializing using learned parameters\n",
      "Running QRS detection...\n",
      "QRS detection complete.\n",
      "Learning initial signal parameters...\n",
      "Found 8 beats during learning. Initializing using learned parameters\n",
      "Running QRS detection...\n",
      "QRS detection complete.\n",
      "Learning initial signal parameters...\n",
      "Found 8 beats during learning. Initializing using learned parameters\n",
      "Running QRS detection...\n",
      "QRS detection complete.\n",
      "Learning initial signal parameters...\n",
      "Found 8 beats during learning. Initializing using learned parameters\n",
      "Running QRS detection...\n",
      "QRS detection complete.\n",
      "Learning initial signal parameters...\n",
      "Found 8 beats during learning. Initializing using learned parameters\n",
      "Running QRS detection...\n",
      "QRS detection complete.\n",
      "Learning initial signal parameters...\n",
      "Found 8 beats during learning. Initializing using learned parameters\n",
      "Running QRS detection...\n",
      "QRS detection complete.\n",
      "Learning initial signal parameters...\n",
      "Found 8 beats during learning. Initializing using learned parameters\n",
      "Running QRS detection...\n",
      "QRS detection complete.\n",
      "Learning initial signal parameters...\n",
      "Found 8 beats during learning. Initializing using learned parameters\n",
      "Running QRS detection...\n",
      "QRS detection complete.\n",
      "Learning initial signal parameters...\n",
      "Found 8 beats during learning. Initializing using learned parameters\n",
      "Running QRS detection...\n",
      "QRS detection complete.\n"
     ]
    }
   ],
   "source": [
    "count = 0\n",
    "qrs_r = []\n",
    "\n",
    "for i in patients:\n",
    "    qrs_inds = processing.xqrs_detect(sig=i.MLII, fs=i.fields['fs'])\n",
    "    qrs_r.append(qrs_inds)\n",
    "\n",
    "\n",
    "\n",
    "\n"
   ]
  },
  {
   "cell_type": "code",
   "execution_count": 9,
   "metadata": {},
   "outputs": [
    {
     "data": {
      "text/plain": [
       "-0.014000000000000012"
      ]
     },
     "execution_count": 9,
     "metadata": {},
     "output_type": "execute_result"
    }
   ],
   "source": [
    "qrs_r[0][1]\n",
    "patients[0].time[370] - patients[0].time[375]\n"
   ]
  },
  {
   "cell_type": "code",
   "execution_count": 10,
   "metadata": {},
   "outputs": [
    {
     "name": "stdout",
     "output_type": "stream",
     "text": [
      "<codes.python.load_database.Patient_record object at 0x000001DF68E9EE80>\n"
     ]
    }
   ],
   "source": [
    "print(patients[1])\n",
    "all_diffs = []\n",
    "count = 0\n",
    "max_diff = 0\n",
    "pat_in = 0\n",
    "diff_in = 0\n",
    "rr_index = 0\n",
    "for i in qrs_r:\n",
    "    diffs = []\n",
    "    for j in range(0,len(i)-1):\n",
    "        first_ind=i[j+1]\n",
    "        second_ind =i[j]\n",
    "        \n",
    "        diff=round((patients[count].time[first_ind] - patients[count].time[second_ind]),2)\n",
    "        if(max_diff < diff):\n",
    "            max_diff = diff\n",
    "            pat_in = count\n",
    "            diff_in = j\n",
    "            rr_index = i[j]\n",
    "        diffs.append(diff)\n",
    "    all_diffs.append(diffs)\n",
    "    count =+ 1\n",
    "\n"
   ]
  },
  {
   "cell_type": "code",
   "execution_count": 11,
   "metadata": {},
   "outputs": [
    {
     "data": {
      "text/plain": [
       "(48,)"
      ]
     },
     "execution_count": 11,
     "metadata": {},
     "output_type": "execute_result"
    }
   ],
   "source": [
    "all_diffs_np = np.array(all_diffs)\n",
    "all_diffs_np.shape"
   ]
  },
  {
   "cell_type": "code",
   "execution_count": 12,
   "metadata": {},
   "outputs": [],
   "source": [
    "averages = []\n",
    "for a in all_diffs:\n",
    "    a_sum = sum(a)\n",
    "    average = round((a_sum/len(a)),2)\n",
    "    averages.append(average)"
   ]
  },
  {
   "cell_type": "markdown",
   "metadata": {},
   "source": [
    "### Min and Max average RR interval "
   ]
  },
  {
   "cell_type": "code",
   "execution_count": 13,
   "metadata": {},
   "outputs": [
    {
     "name": "stdout",
     "output_type": "stream",
     "text": [
      "max rr interval 1.19\n",
      "min rr interval 0.54\n"
     ]
    }
   ],
   "source": [
    "print(\"max rr interval\", max(averages))\n",
    "print(\"min rr interval\",min(averages))"
   ]
  },
  {
   "cell_type": "markdown",
   "metadata": {},
   "source": [
    "### RR interval distribution for the person with the highest average RR interval"
   ]
  },
  {
   "cell_type": "code",
   "execution_count": 14,
   "metadata": {},
   "outputs": [
    {
     "data": {
      "text/plain": [
       "<matplotlib.collections.PathCollection at 0x10cf16ed7f0>"
      ]
     },
     "execution_count": 14,
     "metadata": {},
     "output_type": "execute_result"
    },
    {
     "data": {
      "image/png": "[encoded data removed]",
      "text/plain": [
       "<Figure size 432x288 with 1 Axes>"
      ]
     },
     "metadata": {},
     "output_type": "display_data"
    }
   ],
   "source": [
    "averages.index(max(averages))\n",
    "\n",
    "mit123 = mitdb.patient_records[21]\n",
    "\n",
    "diff123 = all_diffs[21]\n",
    "x ,y  = np.unique(diff123, return_counts=True) # counting occurrence of each loan\n",
    "plt.scatter(x,y)\n"
   ]
  },
  {
   "cell_type": "markdown",
   "metadata": {},
   "source": [
    "### RR interval distribution for the person with the lowest average RR interval"
   ]
  },
  {
   "cell_type": "code",
   "execution_count": 15,
   "metadata": {},
   "outputs": [
    {
     "data": {
      "text/plain": [
       "<matplotlib.collections.PathCollection at 0x10cf174e518>"
      ]
     },
     "execution_count": 15,
     "metadata": {},
     "output_type": "execute_result"
    },
    {
     "data": {
      "image/png": "[encoded data removed]",
      "text/plain": [
       "<Figure size 432x288 with 1 Axes>"
      ]
     },
     "metadata": {},
     "output_type": "display_data"
    }
   ],
   "source": [
    "min_average=averages.index(min(averages))\n",
    "min_record = mitdb.patient_records[min_average]\n",
    "\n",
    "min_record_diff = all_diffs[min_average]\n",
    "x ,y  = np.unique(min_record_diff, return_counts=True) # counting occurrence of each loan\n",
    "plt.scatter(x,y)"
   ]
  },
  {
   "cell_type": "markdown",
   "metadata": {},
   "source": [
    "### Distribution of the RR interval in MITDB and checking out the record for the person with highest rr interval of 19.45 second"
   ]
  },
  {
   "cell_type": "code",
   "execution_count": 16,
   "metadata": {},
   "outputs": [
    {
     "name": "stdout",
     "output_type": "stream",
     "text": [
      "Learning initial signal parameters...\n",
      "Found 8 beats during learning. Initializing using learned parameters\n",
      "Running QRS detection...\n",
      "QRS detection complete.\n"
     ]
    },
    {
     "data": {
      "image/png": "[encoded data removed]",
      "text/plain": [
       "<Figure size 432x288 with 1 Axes>"
      ]
     },
     "metadata": {},
     "output_type": "display_data"
    },
    {
     "data": {
      "image/png": "[encoded data removed]",
      "text/plain": [
       "<Figure size 432x288 with 1 Axes>"
      ]
     },
     "metadata": {},
     "output_type": "display_data"
    },
    {
     "name": "stdout",
     "output_type": "stream",
     "text": [
      "112445\n",
      "312.347\n"
     ]
    }
   ],
   "source": [
    "#flatten_diffs=np.array(all_diffs_np.ravel())\n",
    "#flatten_diffs\n",
    "\n",
    "one_d_diffs = list(chain.from_iterable(all_diffs))\n",
    "\n",
    "x ,y  = np.unique(one_d_diffs, return_counts=True) # counting occurrence of each loan\n",
    "plt.scatter(x,y)\n",
    "\n",
    "max(one_d_diffs)\n",
    "\n",
    "\n",
    "one_d_diffs.index(max(one_d_diffs))\n",
    "\n",
    "mit101 = mitdb.patient_records[pat_in]\n",
    "\n",
    "qrs_inds = processing.xqrs_detect(sig=mit101.MLII[100000:120000], fs=mit101.fields['fs'])\n",
    "wfdb.plot_items(signal=mit101.MLII[100000:120000],ann_samp = [qrs_inds]  )\n",
    "\n",
    "print(rr_index)\n",
    "print(mit101.time[rr_index])"
   ]
  },
  {
   "cell_type": "code",
   "execution_count": 17,
   "metadata": {},
   "outputs": [
    {
     "data": {
      "text/plain": [
       "5.205783333333333"
      ]
     },
     "execution_count": 17,
     "metadata": {},
     "output_type": "execute_result"
    }
   ],
   "source": [
    "312.347/60"
   ]
  },
  {
   "cell_type": "markdown",
   "metadata": {},
   "source": [
    "### closer look at RR interval in the range of most common RR-interval"
   ]
  },
  {
   "cell_type": "code",
   "execution_count": 18,
   "metadata": {},
   "outputs": [],
   "source": [
    "one_d_diffs.sort()"
   ]
  },
  {
   "cell_type": "code",
   "execution_count": 19,
   "metadata": {},
   "outputs": [],
   "source": [
    "less_diffs = []\n",
    "for i in range(0, len(one_d_diffs)):\n",
    "    if(one_d_diffs[i] > 3 ):\n",
    "        break\n",
    "    less_diffs.append(one_d_diffs[i])"
   ]
  },
  {
   "cell_type": "code",
   "execution_count": 20,
   "metadata": {},
   "outputs": [
    {
     "data": {
      "text/plain": [
       "<matplotlib.collections.PathCollection at 0x10cf17f4198>"
      ]
     },
     "execution_count": 20,
     "metadata": {},
     "output_type": "execute_result"
    },
    {
     "data": {
      "image/png": "[encoded data removed]",
      "text/plain": [
       "<Figure size 432x288 with 1 Axes>"
      ]
     },
     "metadata": {},
     "output_type": "display_data"
    }
   ],
   "source": [
    "x ,y  = np.unique(less_diffs, return_counts=True) # counting occurrence of each loan\n",
    "plt.scatter(x,y)\n",
    "\n"
   ]
  },
  {
   "cell_type": "markdown",
   "metadata": {},
   "source": [
    "### Looking at the sample size different in RR-interval"
   ]
  },
  {
   "cell_type": "code",
   "execution_count": 21,
   "metadata": {},
   "outputs": [],
   "source": [
    "all_diffs = []\n",
    "\n",
    "for i in qrs_r:\n",
    "    diffs = []\n",
    "    for j in range(0,len(i)-1):\n",
    "        first_ind=i[j+1]\n",
    "        second_ind =i[j]\n",
    "        \n",
    "        diff=first_ind - second_ind\n",
    "        \n",
    "        diffs.append(diff)\n",
    "    all_diffs.append(diffs)\n",
    "    \n",
    "one_d_diffs = list(chain.from_iterable(all_diffs))"
   ]
  },
  {
   "cell_type": "code",
   "execution_count": 22,
   "metadata": {},
   "outputs": [
    {
     "data": {
      "text/plain": [
       "<matplotlib.collections.PathCollection at 0x10cf1ae8b38>"
      ]
     },
     "execution_count": 22,
     "metadata": {},
     "output_type": "execute_result"
    },
    {
     "data": {
      "image/png": "[encoded data removed]",
      "text/plain": [
       "<Figure size 432x288 with 1 Axes>"
      ]
     },
     "metadata": {},
     "output_type": "display_data"
    }
   ],
   "source": [
    "x ,y  = np.unique(one_d_diffs, return_counts=True) # counting occurrence of each loan\n",
    "plt.scatter(x,y)"
   ]
  },
  {
   "cell_type": "code",
   "execution_count": 23,
   "metadata": {},
   "outputs": [],
   "source": [
    "one_d_diffs.sort()"
   ]
  },
  {
   "cell_type": "code",
   "execution_count": 24,
   "metadata": {},
   "outputs": [],
   "source": [
    "less_diffs = []\n",
    "for i in range(0, len(one_d_diffs)):\n",
    "    if(one_d_diffs[i] > 600 ):\n",
    "        break\n",
    "    less_diffs.append(one_d_diffs[i])"
   ]
  },
  {
   "cell_type": "code",
   "execution_count": 25,
   "metadata": {},
   "outputs": [
    {
     "data": {
      "text/plain": [
       "<matplotlib.collections.PathCollection at 0x10cf1824240>"
      ]
     },
     "execution_count": 25,
     "metadata": {},
     "output_type": "execute_result"
    },
    {
     "data": {
      "image/png": "[encoded data removed]",
      "text/plain": [
       "<Figure size 432x288 with 1 Axes>"
      ]
     },
     "metadata": {},
     "output_type": "display_data"
    }
   ],
   "source": [
    "x ,y  = np.unique(less_diffs, return_counts=True) # counting occurrence of each loan\n",
    "plt.scatter(x,y)"
   ]
  },
  {
   "cell_type": "code",
   "execution_count": 26,
   "metadata": {},
   "outputs": [
    {
     "data": {
      "text/plain": [
       "73"
      ]
     },
     "execution_count": 26,
     "metadata": {},
     "output_type": "execute_result"
    }
   ],
   "source": [
    "min(less_diffs)"
   ]
  },
  {
   "cell_type": "code",
   "execution_count": null,
   "metadata": {},
   "outputs": [],
   "source": []
  },
  {
   "cell_type": "code",
   "execution_count": null,
   "metadata": {},
   "outputs": [],
   "source": []
  },
  {
   "cell_type": "code",
   "execution_count": null,
   "metadata": {},
   "outputs": [],
   "source": []
  },
  {
   "cell_type": "code",
   "execution_count": null,
   "metadata": {},
   "outputs": [],
   "source": []
  }
 ],
 "metadata": {
  "kernelspec": {
   "display_name": "Python 3",
   "language": "python",
   "name": "python3"
  },
  "language_info": {
   "codemirror_mode": {
    "name": "ipython",
    "version": 3
   },
   "file_extension": ".py",
   "mimetype": "text/x-python",
   "name": "python",
   "nbconvert_exporter": "python",
   "pygments_lexer": "ipython3",
   "version": "3.6.5"
  }
 },
 "nbformat": 4,
 "nbformat_minor": 2
}
